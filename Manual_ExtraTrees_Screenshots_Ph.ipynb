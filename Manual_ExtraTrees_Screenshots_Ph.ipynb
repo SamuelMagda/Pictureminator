{
 "cells": [
  {
   "cell_type": "markdown",
   "id": "938bbd1b",
   "metadata": {},
   "source": [
    "## Description\n",
    "\n",
    "In this notebook I am building a model with ExtraTreesClassifier, tuning it with GridSearchCV.\n",
    "\n",
    "After that - I am using validation set to analyse the quality of model prediction and trying to remove some features to improve it\n"
   ]
  },
  {
   "cell_type": "markdown",
   "id": "f72fbf45",
   "metadata": {},
   "source": [
    "### Import DATA"
   ]
  },
  {
   "cell_type": "code",
   "execution_count": 1,
   "id": "d5fd0fe6",
   "metadata": {},
   "outputs": [
    {
     "name": "stderr",
     "output_type": "stream",
     "text": [
      "C:\\Users\\sami_\\AppData\\Local\\Temp\\ipykernel_27980\\3830478048.py:1: DeprecationWarning: \n",
      "Pyarrow will become a required dependency of pandas in the next major release of pandas (pandas 3.0),\n",
      "(to allow more performant data types, such as the Arrow string type, and better interoperability with other libraries)\n",
      "but was not found to be installed on your system.\n",
      "If this would cause problems for you,\n",
      "please provide us feedback at https://github.com/pandas-dev/pandas/issues/54466\n",
      "        \n",
      "  import pandas as pd\n"
     ]
    }
   ],
   "source": [
    "import pandas as pd\n",
    "import os\n",
    "from sklearn.model_selection import GridSearchCV\n",
    "from sklearn.model_selection import train_test_split\n",
    "from sklearn.impute import SimpleImputer\n",
    "from sklearn.pipeline import make_pipeline\n",
    "from sklearn.compose import make_column_transformer\n",
    "import multiprocessing\n",
    "from sklearn.ensemble import ExtraTreesClassifier\n",
    "from sklearn.preprocessing import MinMaxScaler\n",
    "import joblib"
   ]
  },
  {
   "cell_type": "code",
   "execution_count": 2,
   "id": "f2d9135f",
   "metadata": {},
   "outputs": [],
   "source": [
    "pd.set_option('display.max_columns', None)"
   ]
  },
  {
   "cell_type": "code",
   "execution_count": 3,
   "id": "9847b36e",
   "metadata": {},
   "outputs": [],
   "source": [
    "screenshots = pd.read_csv(\"./images/screenshots/screenshots.csv\")\n",
    "\n",
    "screenshots_ph = pd.read_csv(\"./images/screenshots_ph/screenshots_ph.csv\")\n",
    "\n",
    "receipts = pd.read_csv(\"./images/receipts/receipts.csv\")\n",
    "\n",
    "regulars = pd.read_csv(\"./images/regular/regular.csv\")\n",
    "\n",
    "not_good = pd.read_csv(\"./images/not_good/not_good.csv\")\n",
    "\n",
    "superb = pd.read_csv(\"./images/superb/superb.csv\")\n",
    "\n",
    "docs = pd.read_csv(\"./images/docs/docs.csv\")\n",
    "\n",
    "test = pd.read_csv(\"./images/test/test.csv\")\n"
   ]
  },
  {
   "cell_type": "markdown",
   "id": "04a0a0cb",
   "metadata": {},
   "source": [
    "### Labeling and spliting"
   ]
  },
  {
   "cell_type": "code",
   "execution_count": 4,
   "id": "d4929669",
   "metadata": {},
   "outputs": [],
   "source": [
    "# from_labels = [\"docs\", \"not_good\", \"receipts\", \"regular\", \"screenshots\", \"screenshots_ph\", \"superb\", \"test\"]\n",
    "\n",
    "label = \"screenshots_ph\"\n",
    "\n",
    "regulars[label] = 0\n",
    "not_good[label] = 0\n",
    "superb[label] = 0\n",
    "screenshots[label] = 0\n",
    "docs[label] = 0\n",
    "screenshots_ph[label] = 1\n",
    "receipts[label] = 0\n",
    "\n",
    "\n",
    "whole_docs = pd.concat([regulars, not_good, superb, screenshots, docs, receipts, screenshots_ph], ignore_index=True)"
   ]
  },
  {
   "cell_type": "code",
   "execution_count": 5,
   "id": "d4001918",
   "metadata": {},
   "outputs": [],
   "source": [
    "whole_docs = whole_docs.drop(columns=[\"filename\"])"
   ]
  },
  {
   "cell_type": "code",
   "execution_count": 6,
   "id": "ca4897f8",
   "metadata": {},
   "outputs": [],
   "source": [
    "y = whole_docs.pop(label)"
   ]
  },
  {
   "cell_type": "code",
   "execution_count": 7,
   "id": "3a5c4833",
   "metadata": {},
   "outputs": [],
   "source": [
    "X_train, X_test, y_train, y_test = train_test_split(whole_docs, y, test_size=0.15, random_state=42)"
   ]
  },
  {
   "cell_type": "markdown",
   "id": "b1195777",
   "metadata": {},
   "source": [
    "## Running on 4 Classifiers"
   ]
  },
  {
   "cell_type": "markdown",
   "id": "5a7b148b",
   "metadata": {},
   "source": [
    "### ExtraTree simple"
   ]
  },
  {
   "cell_type": "code",
   "execution_count": 8,
   "id": "d951f750",
   "metadata": {},
   "outputs": [],
   "source": [
    "import classifiers_3 as c3"
   ]
  },
  {
   "cell_type": "code",
   "execution_count": 9,
   "id": "12d21ccc",
   "metadata": {},
   "outputs": [
    {
     "name": "stdout",
     "output_type": "stream",
     "text": [
      "Fitting 10 folds for each of 324 candidates, totalling 3240 fits\n",
      "Time taken to train the model: 2 minutes and 19.25 seconds\n",
      "Best parameters: {'extratreesclassifier__min_samples_leaf': 1, 'extratreesclassifier__min_samples_split': 2, 'extratreesclassifier__n_estimators': 100}\n",
      "Best score: 0.9663798049340218\n"
     ]
    }
   ],
   "source": [
    "search_scr = c3.extratrees_model(X_train, y_train, c3.param_et)"
   ]
  },
  {
   "cell_type": "markdown",
   "id": "8fb6b10c",
   "metadata": {},
   "source": [
    "### CatBoost"
   ]
  },
  {
   "cell_type": "code",
   "execution_count": 10,
   "id": "a9c56070",
   "metadata": {},
   "outputs": [
    {
     "name": "stdout",
     "output_type": "stream",
     "text": [
      "Fitting 10 folds for each of 54 candidates, totalling 540 fits\n",
      "Time taken to train the model: 12 minutes and 2.85 seconds\n",
      "Best parameters: {'catboostclassifier__depth': 4, 'catboostclassifier__iterations': 300, 'catboostclassifier__l2_leaf_reg': 1e-20}\n",
      "Best score: 0.9699799196787149\n"
     ]
    }
   ],
   "source": [
    "search_cb = c3.catboost_model(X_train, y_train, c3.param_cb)"
   ]
  },
  {
   "cell_type": "markdown",
   "id": "69a8e7d2",
   "metadata": {},
   "source": [
    "### LGBMClassifier"
   ]
  },
  {
   "cell_type": "code",
   "execution_count": 11,
   "id": "e7930e7c",
   "metadata": {},
   "outputs": [
    {
     "name": "stdout",
     "output_type": "stream",
     "text": [
      "Fitting 10 folds for each of 240 candidates, totalling 2400 fits\n",
      "[LightGBM] [Info] Number of positive: 75, number of negative: 757\n",
      "[LightGBM] [Info] Auto-choosing col-wise multi-threading, the overhead of testing was 0.001023 seconds.\n",
      "You can set `force_col_wise=true` to remove the overhead.\n",
      "[LightGBM] [Info] Total Bins 12570\n",
      "[LightGBM] [Info] Number of data points in the train set: 832, number of used features: 56\n",
      "[LightGBM] [Info] [binary:BoostFromScore]: pavg=0.090144 -> initscore=-2.311875\n",
      "[LightGBM] [Info] Start training from score -2.311875\n",
      "[LightGBM] [Warning] No further splits with positive gain, best gain: -inf\n",
      "[LightGBM] [Warning] No further splits with positive gain, best gain: -inf\n",
      "[LightGBM] [Warning] No further splits with positive gain, best gain: -inf\n",
      "Time taken to train the model: 7 minutes and 26.42 seconds\n",
      "Best parameters: {'lgbmclassifier__min_child_samples': 9, 'lgbmclassifier__n_estimators': 100, 'lgbmclassifier__num_leaves': 25}\n",
      "Best score: 0.9771944922547332\n"
     ]
    }
   ],
   "source": [
    "param_lgbm = {\n",
    "        'n_estimators': range(100, 400, 50), \n",
    "        'num_leaves': range(20, 40, 5), \n",
    "        'min_child_samples': range(1, 20, 2)\n",
    "}\n",
    "\n",
    "search_lgbm = c3.lgbm_model(X_train, y_train, c3.param_lgbm)"
   ]
  },
  {
   "cell_type": "markdown",
   "id": "f17cf133",
   "metadata": {},
   "source": [
    "### AdaBoost"
   ]
  },
  {
   "cell_type": "code",
   "execution_count": 12,
   "id": "0a7e3ae0",
   "metadata": {},
   "outputs": [
    {
     "name": "stdout",
     "output_type": "stream",
     "text": [
      "Fitting 10 folds for each of 63 candidates, totalling 630 fits\n"
     ]
    },
    {
     "name": "stderr",
     "output_type": "stream",
     "text": [
      "e:\\Git&GitHub\\Pictureminator\\classifiers\\Lib\\site-packages\\sklearn\\ensemble\\_weight_boosting.py:519: FutureWarning: The SAMME.R algorithm (the default) is deprecated and will be removed in 1.6. Use the SAMME algorithm to circumvent this warning.\n",
      "  warnings.warn(\n"
     ]
    },
    {
     "name": "stdout",
     "output_type": "stream",
     "text": [
      "Time taken to train the model: 2 minutes and 41.85 seconds\n",
      "Best parameters: {'adaboostclassifier__estimator__max_depth': 2, 'adaboostclassifier__learning_rate': 1.0, 'adaboostclassifier__n_estimators': 300}\n",
      "Best score: 0.9735943775100401\n"
     ]
    }
   ],
   "source": [
    "param_adaboost = {\n",
    "        'n_estimators': range(50, 400, 50), \n",
    "        'learning_rate': [0.01, 0.1, 1.0],\n",
    "        'estimator__max_depth': [1, 2, 3]\n",
    "}\n",
    "\n",
    "search_ab = c3.adaboost_model(X_train, y_train, c3.param_adaboost)"
   ]
  },
  {
   "cell_type": "markdown",
   "id": "2328128e",
   "metadata": {},
   "source": [
    "### All 4 classifiers comparison"
   ]
  },
  {
   "cell_type": "code",
   "execution_count": 15,
   "id": "1a0f8417",
   "metadata": {},
   "outputs": [
    {
     "name": "stdout",
     "output_type": "stream",
     "text": [
      "Classifier     Best Score - screenshots_ph\n",
      "Extra Trees    0.9664\n",
      "LightGBM       0.9772\n",
      "CatBoost       0.9700\n",
      "AdaBoost       0.9736\n"
     ]
    }
   ],
   "source": [
    "best_score_et = search_scr.best_score_\n",
    "best_score_lgbm = search_lgbm.best_score_\n",
    "best_score_catboost = search_cb.best_score_\n",
    "best_score_adaboost = search_ab.best_score_\n",
    "\n",
    "# Create a list to display the results\n",
    "results = [\n",
    "    ('Extra Trees', best_score_et),\n",
    "    ('LightGBM', best_score_lgbm),\n",
    "    ('CatBoost', best_score_catboost),\n",
    "    ('AdaBoost', best_score_adaboost)\n",
    "]\n",
    "\n",
    "# Print the results in a tabular format\n",
    "print(f\"{'Classifier':<15}{f'Best Score - {label}'}\")\n",
    "for name, score in results:\n",
    "    print(f\"{name:<15}{score:.4f}\")"
   ]
  },
  {
   "cell_type": "markdown",
   "id": "b85cbcb9",
   "metadata": {},
   "source": [
    "## Confusion matrix"
   ]
  },
  {
   "cell_type": "code",
   "execution_count": 16,
   "id": "79ace901",
   "metadata": {},
   "outputs": [
    {
     "data": {
      "text/plain": [
       "'screenshots_ph'"
      ]
     },
     "execution_count": 16,
     "metadata": {},
     "output_type": "execute_result"
    }
   ],
   "source": [
    "filenames = test.pop(\"filename\")\n",
    "label"
   ]
  },
  {
   "cell_type": "code",
   "execution_count": 17,
   "id": "f0ebba6e",
   "metadata": {},
   "outputs": [
    {
     "data": {
      "text/html": [
       "<div>\n",
       "<style scoped>\n",
       "    .dataframe tbody tr th:only-of-type {\n",
       "        vertical-align: middle;\n",
       "    }\n",
       "\n",
       "    .dataframe tbody tr th {\n",
       "        vertical-align: top;\n",
       "    }\n",
       "\n",
       "    .dataframe thead th {\n",
       "        text-align: right;\n",
       "    }\n",
       "</style>\n",
       "<table border=\"1\" class=\"dataframe\">\n",
       "  <thead>\n",
       "    <tr style=\"text-align: right;\">\n",
       "      <th></th>\n",
       "      <th>filename</th>\n",
       "      <th>prediction</th>\n",
       "    </tr>\n",
       "    <tr>\n",
       "      <th>metric</th>\n",
       "      <th></th>\n",
       "      <th></th>\n",
       "    </tr>\n",
       "  </thead>\n",
       "  <tbody>\n",
       "    <tr>\n",
       "      <th>FN</th>\n",
       "      <td>3</td>\n",
       "      <td>3</td>\n",
       "    </tr>\n",
       "    <tr>\n",
       "      <th>FP</th>\n",
       "      <td>2</td>\n",
       "      <td>2</td>\n",
       "    </tr>\n",
       "    <tr>\n",
       "      <th>not true</th>\n",
       "      <td>82</td>\n",
       "      <td>82</td>\n",
       "    </tr>\n",
       "    <tr>\n",
       "      <th>true</th>\n",
       "      <td>2</td>\n",
       "      <td>2</td>\n",
       "    </tr>\n",
       "  </tbody>\n",
       "</table>\n",
       "</div>"
      ],
      "text/plain": [
       "          filename  prediction\n",
       "metric                        \n",
       "FN               3           3\n",
       "FP               2           2\n",
       "not true        82          82\n",
       "true             2           2"
      ]
     },
     "execution_count": 17,
     "metadata": {},
     "output_type": "execute_result"
    }
   ],
   "source": [
    "prediction = search_lgbm.predict(test)\n",
    "\n",
    "result = pd.DataFrame()\n",
    "result['filename'] = filenames\n",
    "result['prediction'] = prediction\n",
    "\n",
    "result.loc[(result.prediction == 1) & (result.filename.str.contains(label)), \"metric\"] = \"true\"\n",
    "result.loc[(result.prediction == 0) & (result.filename.str.contains(label)), \"metric\"] = \"FN\"\n",
    "result.loc[(result.prediction == 0) & (~result.filename.str.contains(label)), \"metric\"] = \"not true\"\n",
    "result.loc[(result.prediction == 1) & (~result.filename.str.contains(label)), \"metric\"] = \"FP\"\n",
    "\n",
    "result.groupby(\"metric\").count()"
   ]
  },
  {
   "cell_type": "code",
   "execution_count": 18,
   "id": "16f25893",
   "metadata": {},
   "outputs": [
    {
     "data": {
      "text/html": [
       "<div>\n",
       "<style scoped>\n",
       "    .dataframe tbody tr th:only-of-type {\n",
       "        vertical-align: middle;\n",
       "    }\n",
       "\n",
       "    .dataframe tbody tr th {\n",
       "        vertical-align: top;\n",
       "    }\n",
       "\n",
       "    .dataframe thead th {\n",
       "        text-align: right;\n",
       "    }\n",
       "</style>\n",
       "<table border=\"1\" class=\"dataframe\">\n",
       "  <thead>\n",
       "    <tr style=\"text-align: right;\">\n",
       "      <th></th>\n",
       "      <th>filename</th>\n",
       "      <th>prediction</th>\n",
       "      <th>metric</th>\n",
       "    </tr>\n",
       "  </thead>\n",
       "  <tbody>\n",
       "    <tr>\n",
       "      <th>37</th>\n",
       "      <td>screenshot_ph1.JPG</td>\n",
       "      <td>1</td>\n",
       "      <td>FP</td>\n",
       "    </tr>\n",
       "    <tr>\n",
       "      <th>58</th>\n",
       "      <td>docs (13).JPG</td>\n",
       "      <td>1</td>\n",
       "      <td>FP</td>\n",
       "    </tr>\n",
       "  </tbody>\n",
       "</table>\n",
       "</div>"
      ],
      "text/plain": [
       "              filename  prediction metric\n",
       "37  screenshot_ph1.JPG           1     FP\n",
       "58       docs (13).JPG           1     FP"
      ]
     },
     "execution_count": 18,
     "metadata": {},
     "output_type": "execute_result"
    }
   ],
   "source": [
    "result.loc[result.metric == \"FP\"]"
   ]
  },
  {
   "cell_type": "markdown",
   "id": "920242d7",
   "metadata": {},
   "source": [
    "#### Confusion matrix representation"
   ]
  },
  {
   "cell_type": "code",
   "execution_count": 19,
   "id": "5d8c775d",
   "metadata": {},
   "outputs": [
    {
     "data": {
      "image/png": "[encoded data removed]",
      "text/plain": [
       "<Figure size 640x480 with 2 Axes>"
      ]
     },
     "metadata": {},
     "output_type": "display_data"
    }
   ],
   "source": [
    "import numpy as np\n",
    "import matplotlib.pyplot as plt\n",
    "from sklearn.metrics import confusion_matrix\n",
    "import seaborn as sns\n",
    "from matplotlib.colors import ListedColormap, BoundaryNorm\n",
    "\n",
    "# Define your color boundaries and corresponding colors\n",
    "boundaries = [0, 5, 10, 20, 50, 60, 70, 100]  # Assuming 80 is your max value\n",
    "colors = [\n",
    "    'darkgreen',  # 0-5\n",
    "    'green',      # 5-10\n",
    "    '#ffcccc',    # 10-20 (light red)\n",
    "    'red',        # 20-50\n",
    "    'lightblue',  # 50-60\n",
    "    'blue',       # 60-70\n",
    "    'darkblue'    # above 70\n",
    "]\n",
    "\n",
    "# Create a colormap\n",
    "custom_cmap = ListedColormap(colors)\n",
    "norm = BoundaryNorm(boundaries, custom_cmap.N, clip=True)\n",
    "\n",
    "\n",
    "tp = sum(result['metric'] == 'true')  \n",
    "fn = sum(result['metric'] == 'FN')    \n",
    "tn = sum(result['metric'] == 'not true')  \n",
    "fp = sum(result['metric'] == 'FP') \n",
    "\n",
    "conf_matrix = np.array([[tp, fn],\n",
    "                        [fp, tn]])\n",
    "\n",
    "# You can then plot this using seaborn or matplotlib\n",
    "sns.heatmap(conf_matrix, annot=True, fmt='d', cmap=custom_cmap, norm=norm, \n",
    "            xticklabels=['Positive', 'Negative'], \n",
    "            yticklabels=['Positive', 'Negative'])\n",
    "plt.ylabel('Actual Class')\n",
    "plt.xlabel('Predicted Class')\n",
    "plt.title('Confusion Matrix')\n",
    "plt.show()"
   ]
  },
  {
   "cell_type": "markdown",
   "id": "bbb04f08",
   "metadata": {},
   "source": [
    "__________________"
   ]
  },
  {
   "cell_type": "markdown",
   "id": "a02c9079",
   "metadata": {},
   "source": [
    "## Saving the model"
   ]
  },
  {
   "cell_type": "code",
   "execution_count": 20,
   "id": "db65f991",
   "metadata": {},
   "outputs": [
    {
     "name": "stdout",
     "output_type": "stream",
     "text": [
      "Model saved successfully at ./models/screenshots_ph_extratrees.model\n"
     ]
    }
   ],
   "source": [
    "model_path = f\"./models/{label}_extratrees.model\"\n",
    "joblib.dump(search_scr, model_path)\n",
    "\n",
    "print(f\"Model saved successfully at {model_path}\")"
   ]
  },
  {
   "cell_type": "markdown",
   "id": "14f7a7c5",
   "metadata": {},
   "source": [
    "## Feature importance"
   ]
  },
  {
   "cell_type": "code",
   "execution_count": 21,
   "id": "76219141",
   "metadata": {},
   "outputs": [
    {
     "name": "stderr",
     "output_type": "stream",
     "text": [
      "e:\\Git&GitHub\\Pictureminator\\classifiers\\Lib\\site-packages\\lofo\\lofo_importance.py:3: TqdmWarning: IProgress not found. Please update jupyter and ipywidgets. See https://ipywidgets.readthedocs.io/en/stable/user_install.html\n",
      "  from tqdm.autonotebook import tqdm\n"
     ]
    }
   ],
   "source": [
    "from lofo import LOFOImportance, Dataset, plot_importance\n",
    "from sklearn.model_selection import KFold\n",
    "from sklearn.metrics import accuracy_score\n",
    "from sklearn.metrics import get_scorer_names\n",
    "\n",
    "\n",
    "cv = KFold(n_splits=10, shuffle=True, random_state=42)\n",
    "\n",
    "test_lofo = whole_docs.copy()\n",
    "test_lofo[label] = y.copy()\n",
    "\n",
    "dataset = Dataset(df=test_lofo, target=label, features=[col for col in test_lofo.columns if col != label])\n",
    "\n",
    "full_pipeline = make_pipeline(\n",
    "        SimpleImputer(), \n",
    "        MinMaxScaler(), \n",
    "        ExtraTreesClassifier()\n",
    "    )"
   ]
  },
  {
   "cell_type": "code",
   "execution_count": 22,
   "id": "615aed7e",
   "metadata": {},
   "outputs": [
    {
     "name": "stdout",
     "output_type": "stream",
     "text": [
      "CPU times: total: 0 ns\n",
      "Wall time: 0 ns\n"
     ]
    }
   ],
   "source": [
    "%%time\n",
    "lofo_imp = LOFOImportance(dataset, cv=cv, model=full_pipeline, scoring=\"accuracy\")"
   ]
  },
  {
   "cell_type": "code",
   "execution_count": 23,
   "id": "c2f13a78",
   "metadata": {},
   "outputs": [
    {
     "name": "stderr",
     "output_type": "stream",
     "text": [
      "100%|██████████| 57/57 [01:13<00:00,  1.28s/it]"
     ]
    },
    {
     "name": "stdout",
     "output_type": "stream",
     "text": [
      "CPU times: total: 1min 3s\n",
      "Wall time: 1min 14s\n"
     ]
    },
    {
     "name": "stderr",
     "output_type": "stream",
     "text": [
      "\n"
     ]
    }
   ],
   "source": [
    "%%time\n",
    "importance_df = lofo_imp.get_importance()"
   ]
  },
  {
   "cell_type": "code",
   "execution_count": 24,
   "id": "4eee51a9",
   "metadata": {},
   "outputs": [
    {
     "data": {
      "image/png": "[encoded data removed]",
      "text/plain": [
       "<Figure size 1200x2000 with 1 Axes>"
      ]
     },
     "metadata": {},
     "output_type": "display_data"
    }
   ],
   "source": [
    "plot_importance(importance_df, figsize=(12, 20))\n"
   ]
  },
  {
   "cell_type": "code",
   "execution_count": 25,
   "id": "d600cb49",
   "metadata": {},
   "outputs": [],
   "source": [
    "features_to_drop = importance_df.sort_values(\"importance_mean\").head(7)[\"feature\"]"
   ]
  },
  {
   "cell_type": "code",
   "execution_count": 26,
   "id": "f87a2ee5",
   "metadata": {},
   "outputs": [],
   "source": [
    "whole_doc_less_features = whole_docs.drop(columns=features_to_drop)"
   ]
  },
  {
   "cell_type": "markdown",
   "id": "57b8e91b",
   "metadata": {},
   "source": [
    "## Verification run with lesser features - ExtraTrees Classifier"
   ]
  },
  {
   "cell_type": "code",
   "execution_count": 27,
   "id": "1ec3a1ae",
   "metadata": {},
   "outputs": [
    {
     "name": "stdout",
     "output_type": "stream",
     "text": [
      "Fitting 10 folds for each of 324 candidates, totalling 3240 fits\n",
      "Time taken to train the model: 2 minutes and 4.46 seconds\n",
      "Best parameters: {'extratreesclassifier__min_samples_leaf': 1, 'extratreesclassifier__min_samples_split': 2, 'extratreesclassifier__n_estimators': 150}\n",
      "Best score: 0.9711847389558231\n"
     ]
    }
   ],
   "source": [
    "X_train_l, X_test_l, y_train_l, y_test_l = train_test_split(whole_doc_less_features, y, test_size=0.15, random_state=42)\n",
    "\n",
    "search_et_l = c3.extratrees_model(X_train_l, y_train_l, c3.param_et)\n"
   ]
  },
  {
   "cell_type": "code",
   "execution_count": 28,
   "id": "d9b45564",
   "metadata": {},
   "outputs": [
    {
     "data": {
      "text/html": [
       "<div>\n",
       "<style scoped>\n",
       "    .dataframe tbody tr th:only-of-type {\n",
       "        vertical-align: middle;\n",
       "    }\n",
       "\n",
       "    .dataframe tbody tr th {\n",
       "        vertical-align: top;\n",
       "    }\n",
       "\n",
       "    .dataframe thead th {\n",
       "        text-align: right;\n",
       "    }\n",
       "</style>\n",
       "<table border=\"1\" class=\"dataframe\">\n",
       "  <thead>\n",
       "    <tr style=\"text-align: right;\">\n",
       "      <th></th>\n",
       "      <th>filename</th>\n",
       "      <th>prediction</th>\n",
       "    </tr>\n",
       "    <tr>\n",
       "      <th>metric</th>\n",
       "      <th></th>\n",
       "      <th></th>\n",
       "    </tr>\n",
       "  </thead>\n",
       "  <tbody>\n",
       "    <tr>\n",
       "      <th>FN</th>\n",
       "      <td>10</td>\n",
       "      <td>10</td>\n",
       "    </tr>\n",
       "    <tr>\n",
       "      <th>FP</th>\n",
       "      <td>3</td>\n",
       "      <td>3</td>\n",
       "    </tr>\n",
       "    <tr>\n",
       "      <th>not true</th>\n",
       "      <td>75</td>\n",
       "      <td>75</td>\n",
       "    </tr>\n",
       "    <tr>\n",
       "      <th>true</th>\n",
       "      <td>1</td>\n",
       "      <td>1</td>\n",
       "    </tr>\n",
       "  </tbody>\n",
       "</table>\n",
       "</div>"
      ],
      "text/plain": [
       "          filename  prediction\n",
       "metric                        \n",
       "FN              10          10\n",
       "FP               3           3\n",
       "not true        75          75\n",
       "true             1           1"
      ]
     },
     "execution_count": 28,
     "metadata": {},
     "output_type": "execute_result"
    }
   ],
   "source": [
    "test_l = test.drop(columns=features_to_drop)\n",
    "\n",
    "\n",
    "prediction_l = search_et_l.predict(test_l)\n",
    "\n",
    "result_l = pd.DataFrame()\n",
    "result_l['filename'] = filenames\n",
    "result_l['prediction'] = prediction\n",
    "\n",
    "result_l.loc[(result_l.prediction == 1) & (result_l.filename.str.contains(\"docs\")), \"metric\"] = \"true\"\n",
    "result_l.loc[(result_l.prediction == 0) & (result_l.filename.str.contains(\"docs\")), \"metric\"] = \"FN\"\n",
    "result_l.loc[(result_l.prediction == 0) & (~result_l.filename.str.contains(\"docs\")), \"metric\"] = \"not true\"\n",
    "result_l.loc[(result_l.prediction == 1) & (~result_l.filename.str.contains(\"docs\")), \"metric\"] = \"FP\"\n",
    "\n",
    "result_l.groupby(\"metric\").count()"
   ]
  }
 ],
 "metadata": {
  "kernelspec": {
   "display_name": "Python 3 (ipykernel)",
   "language": "python",
   "name": "python3"
  },
  "language_info": {
   "codemirror_mode": {
    "name": "ipython",
    "version": 3
   },
   "file_extension": ".py",
   "mimetype": "text/x-python",
   "name": "python",
   "nbconvert_exporter": "python",
   "pygments_lexer": "ipython3",
   "version": "3.11.5"
  }
 },
 "nbformat": 4,
 "nbformat_minor": 5
}
