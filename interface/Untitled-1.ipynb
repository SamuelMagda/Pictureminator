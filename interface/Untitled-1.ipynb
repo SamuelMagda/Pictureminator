{
 "cells": [
  {
   "cell_type": "code",
   "execution_count": null,
   "metadata": {},
   "outputs": [],
   "source": [
    "        # Sorting options with switches\n",
    "        self.sort_option = ctk.StringVar(value=\"No Order\")\n",
    "        self.sort_by_year = ctk.BooleanVar(value=False)\n",
    "        self.sort_by_month = ctk.BooleanVar(value=False)"
   ]
  },
  {
   "cell_type": "code",
   "execution_count": null,
   "metadata": {},
   "outputs": [],
   "source": [
    "        # self.year_sort_switch = ctk.CTkSwitch(self.sorting_frame, text=\"Sort by Year\", variable=self.year_sort_var, onvalue=True, offvalue=False)\n",
    "        # self.month_sort_switch = ctk.CTkSwitch(self.sorting_frame, text=\"Sort by Month\", variable=self.month_sort_var, onvalue=True, offvalue=False)\n",
    "        # self.no_sort_switch = ctk.CTkSwitch(self.sorting_frame, text=\"No Sorting\", variable=self.no_sort_var, onvalue=True, offvalue=False)"
   ]
  },
  {
   "cell_type": "code",
   "execution_count": null,
   "metadata": {},
   "outputs": [],
   "source": [
    "        # Create a new frame for the sorting switches under the search bar\n",
    "        self.sorting_frame = ctk.CTkFrame(self.center_frame)\n",
    "        self.sorting_frame.pack(fill='x', pady=10)\n",
    "\n",
    "        # Create switches for each sorting option\n",
    "        self.year_sort_switch = ctk.CTkSwitch(self.sorting_frame, text=\"Sort by Year\", command=lambda: self.update_switches('Year'))\n",
    "        self.year_sort_switch.pack(side='top', fill='x')\n",
    "\n",
    "        self.month_sort_switch = ctk.CTkSwitch(self.sorting_frame, text=\"Sort by Month\", command=lambda: self.update_switches('Month'))\n",
    "        self.month_sort_switch.pack(side='top', fill='x')\n",
    "\n",
    "        self.no_sort_switch = ctk.CTkSwitch(self.sorting_frame, text=\"No Sorting\", command=lambda: self.update_switches('NoOrder'))\n",
    "        self.no_sort_switch.pack(side='top', fill='x')\n",
    "            \n",
    "        self.year_sort_var = ctk.BooleanVar(value=False)\n",
    "        self.month_sort_var = ctk.BooleanVar(value=False)\n",
    "        self.no_sort_var = ctk.StringVar(value=\"No Order\")\n",
    "\n",
    "    def update_switches(self, selected_option):\n",
    "        # Reset all switch variables to False\n",
    "        self.year_sort_var.set(False)\n",
    "        self.month_sort_var.set(False)\n",
    "        self.no_sort_var.set(False)\n",
    "\n",
    "        # Change the state of the switches to reflect the selected option\n",
    "        if selected_option == 'Year':\n",
    "            self.year_sort_var.set(True)\n",
    "            self.no_sort_var.set(False)\n",
    "        elif selected_option == 'Month':\n",
    "            self.month_sort_var.set(True)\n",
    "            self.no_sort_var.set(False)\n",
    "        elif selected_option == 'NoOrder':\n",
    "            self.year_sort_var.set(False)\n",
    "            self.month_sort_var.set(False)\n",
    "            self.no_sort_var.set(True)"
   ]
  },
  {
   "cell_type": "code",
   "execution_count": null,
   "metadata": {},
   "outputs": [],
   "source": [
    "\n",
    "    def update_switches(self, selected_option):\n",
    "        # Set all switch variables to False first\n",
    "        self.year_sort_var.set(False)\n",
    "        self.month_sort_var.set(False)\n",
    "        self.no_sort_var.set(False)\n",
    "\n",
    "        # Then set the selected one to True\n",
    "        if selected_option == 'Year':\n",
    "            self.year_sort_var.set(True)\n",
    "        elif selected_option == 'Month':\n",
    "            self.month_sort_var.set(True)\n",
    "        elif selected_option == 'NoOrder':\n",
    "            self.no_sort_var.set(True)"
   ]
  }
 ],
 "metadata": {
  "language_info": {
   "name": "python"
  }
 },
 "nbformat": 4,
 "nbformat_minor": 2
}
