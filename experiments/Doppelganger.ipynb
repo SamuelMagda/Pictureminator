{
 "cells": [
  {
   "cell_type": "code",
   "execution_count": 1,
   "id": "c1ea5e9f",
   "metadata": {},
   "outputs": [],
   "source": [
    "from PIL import Image\n",
    "import imagehash\n",
    "from collections import defaultdict\n",
    "import os\n",
    "from pillow_heif import register_heif_opener"
   ]
  },
  {
   "cell_type": "code",
   "execution_count": 2,
   "id": "d6961db5",
   "metadata": {},
   "outputs": [],
   "source": [
    "register_heif_opener()"
   ]
  },
  {
   "cell_type": "code",
   "execution_count": 2,
   "id": "0981070d",
   "metadata": {},
   "outputs": [],
   "source": [
    "def calculate_image_hash(image_path):\n",
    "    \"\"\"Calculate perceptual hash for an image.\"\"\"\n",
    "    img = Image.open(image_path)\n",
    "    return imagehash.average_hash(img)"
   ]
  },
  {
   "cell_type": "code",
   "execution_count": 3,
   "id": "f9fc4c4d",
   "metadata": {},
   "outputs": [],
   "source": [
    "import pandas as pd"
   ]
  },
  {
   "cell_type": "code",
   "execution_count": 5,
   "id": "5c87c01c",
   "metadata": {},
   "outputs": [],
   "source": [
    "def group_similar_images(image_paths):\n",
    "    \"\"\"Group similar images based on perceptual hash.\"\"\"\n",
    "    image_hashes = {path: calculate_image_hash(path) for path in image_paths}\n",
    "\n",
    "    grouped_images = defaultdict(list)\n",
    "    unique_images = []\n",
    "\n",
    "    for path1 in image_paths:\n",
    "        is_unique = True\n",
    "\n",
    "        for path2 in unique_images:\n",
    "            if are_images_similar(image_hashes[path1], image_hashes[path2]):\n",
    "                grouped_images[path2].append(path1)\n",
    "                is_unique = False\n",
    "                break\n",
    "\n",
    "        if is_unique:\n",
    "            unique_images.append(path1)\n",
    "\n",
    "    return unique_images, grouped_images\n"
   ]
  },
  {
   "cell_type": "code",
   "execution_count": 6,
   "id": "6d8282ba",
   "metadata": {},
   "outputs": [],
   "source": [
    "def are_images_similar(hash1, hash2, threshold=10):\n",
    "    \"\"\"Check if two image hashes are similar based on a threshold.\"\"\"\n",
    "    return hash1 - hash2 < threshold"
   ]
  },
  {
   "cell_type": "code",
   "execution_count": 3,
   "id": "ce4668d2",
   "metadata": {},
   "outputs": [],
   "source": [
    "image_folder_path = \"./images/doppelganger/\"\n",
    "image_paths = []"
   ]
  },
  {
   "cell_type": "code",
   "execution_count": 4,
   "id": "128ce6c4",
   "metadata": {},
   "outputs": [],
   "source": [
    "dir_with_images = os.scandir(image_folder_path)"
   ]
  },
  {
   "cell_type": "code",
   "execution_count": 35,
   "id": "8502edff",
   "metadata": {},
   "outputs": [],
   "source": [
    "for file in dir_with_images:\n",
    "    image_paths.append(f\"{image_folder_path}{file.name}\")"
   ]
  },
  {
   "cell_type": "code",
   "execution_count": 40,
   "id": "1e650284",
   "metadata": {},
   "outputs": [],
   "source": [
    "unique_images, grouped_images = group_similar_images(image_paths)\n"
   ]
  },
  {
   "cell_type": "code",
   "execution_count": 41,
   "id": "416971fc",
   "metadata": {},
   "outputs": [
    {
     "data": {
      "text/plain": [
       "['./images/doppelganger/2-1.JPG',\n",
       " './images/doppelganger/1.HEIC',\n",
       " './images/doppelganger/4-1.JPG',\n",
       " './images/doppelganger/5.JPG',\n",
       " './images/doppelganger/3-1.JPG',\n",
       " './images/doppelganger/1-2.HEIC',\n",
       " './images/doppelganger/3.JPG',\n",
       " './images/doppelganger/5-1.JPG']"
      ]
     },
     "execution_count": 41,
     "metadata": {},
     "output_type": "execute_result"
    }
   ],
   "source": [
    "unique_images"
   ]
  },
  {
   "cell_type": "code",
   "execution_count": 42,
   "id": "1497b02d",
   "metadata": {},
   "outputs": [
    {
     "data": {
      "text/plain": [
       "defaultdict(list,\n",
       "            {'./images/doppelganger/2-1.JPG': ['./images/doppelganger/2-2.JPG',\n",
       "              './images/doppelganger/2.JPG'],\n",
       "             './images/doppelganger/4-1.JPG': ['./images/doppelganger/4.JPG']})"
      ]
     },
     "execution_count": 42,
     "metadata": {},
     "output_type": "execute_result"
    }
   ],
   "source": [
    "grouped_images"
   ]
  },
  {
   "cell_type": "code",
   "execution_count": 67,
   "id": "b91ccac9",
   "metadata": {},
   "outputs": [],
   "source": [
    "images_hashes = {}\n",
    "matrix_img = {}\n",
    "for p in image_paths:\n",
    "    images_hashes[os.path.basename(p)] = calculate_image_hash(p)\n",
    "    matrix_img[os.path.basename(p)] = {}"
   ]
  },
  {
   "cell_type": "code",
   "execution_count": 85,
   "id": "8ed6f513",
   "metadata": {
    "scrolled": true
   },
   "outputs": [],
   "source": [
    "for img in images_hashes:\n",
    "    for img2 in images_hashes:\n",
    "        matrix_img[img][img2] = int(str(images_hashes[img2]), 16) - int(str(images_hashes[img]), 16)\n",
    "        "
   ]
  },
  {
   "cell_type": "code",
   "execution_count": 86,
   "id": "5b694596",
   "metadata": {},
   "outputs": [],
   "source": [
    "matrix_img_df = pd.DataFrame(matrix_img)"
   ]
  },
  {
   "cell_type": "code",
   "execution_count": 87,
   "id": "97fed3ed",
   "metadata": {},
   "outputs": [
    {
     "data": {
      "text/html": [
       "<div>\n",
       "<style scoped>\n",
       "    .dataframe tbody tr th:only-of-type {\n",
       "        vertical-align: middle;\n",
       "    }\n",
       "\n",
       "    .dataframe tbody tr th {\n",
       "        vertical-align: top;\n",
       "    }\n",
       "\n",
       "    .dataframe thead th {\n",
       "        text-align: right;\n",
       "    }\n",
       "</style>\n",
       "<table border=\"1\" class=\"dataframe\">\n",
       "  <thead>\n",
       "    <tr style=\"text-align: right;\">\n",
       "      <th></th>\n",
       "      <th>2-1.JPG</th>\n",
       "      <th>1.HEIC</th>\n",
       "      <th>2-2.JPG</th>\n",
       "      <th>4-1.JPG</th>\n",
       "      <th>4.JPG</th>\n",
       "      <th>5.JPG</th>\n",
       "      <th>3-1.JPG</th>\n",
       "      <th>2.JPG</th>\n",
       "      <th>1-2.HEIC</th>\n",
       "      <th>3.JPG</th>\n",
       "      <th>5-1.JPG</th>\n",
       "    </tr>\n",
       "  </thead>\n",
       "  <tbody>\n",
       "    <tr>\n",
       "      <th>2-1.JPG</th>\n",
       "      <td>0</td>\n",
       "      <td>2476771658941726233</td>\n",
       "      <td>-33554432</td>\n",
       "      <td>-63863231062254946</td>\n",
       "      <td>-68384285432309092</td>\n",
       "      <td>9114786130887384353</td>\n",
       "      <td>-71980917776970785</td>\n",
       "      <td>0</td>\n",
       "      <td>2334835720024821012</td>\n",
       "      <td>-71483667821683681</td>\n",
       "      <td>2170204874447994145</td>\n",
       "    </tr>\n",
       "    <tr>\n",
       "      <th>1.HEIC</th>\n",
       "      <td>-2476771658941726233</td>\n",
       "      <td>0</td>\n",
       "      <td>-2476771658975280665</td>\n",
       "      <td>-2540634890003981179</td>\n",
       "      <td>-2545155944374035325</td>\n",
       "      <td>6638014471945658120</td>\n",
       "      <td>-2548752576718697018</td>\n",
       "      <td>-2476771658941726233</td>\n",
       "      <td>-141935938916905221</td>\n",
       "      <td>-2548255326763409914</td>\n",
       "      <td>-306566784493732088</td>\n",
       "    </tr>\n",
       "    <tr>\n",
       "      <th>2-2.JPG</th>\n",
       "      <td>33554432</td>\n",
       "      <td>2476771658975280665</td>\n",
       "      <td>0</td>\n",
       "      <td>-63863231028700514</td>\n",
       "      <td>-68384285398754660</td>\n",
       "      <td>9114786130920938785</td>\n",
       "      <td>-71980917743416353</td>\n",
       "      <td>33554432</td>\n",
       "      <td>2334835720058375444</td>\n",
       "      <td>-71483667788129249</td>\n",
       "      <td>2170204874481548577</td>\n",
       "    </tr>\n",
       "    <tr>\n",
       "      <th>4-1.JPG</th>\n",
       "      <td>63863231062254946</td>\n",
       "      <td>2540634890003981179</td>\n",
       "      <td>63863231028700514</td>\n",
       "      <td>0</td>\n",
       "      <td>-4521054370054146</td>\n",
       "      <td>9178649361949639299</td>\n",
       "      <td>-8117686714715839</td>\n",
       "      <td>63863231062254946</td>\n",
       "      <td>2398698951087075958</td>\n",
       "      <td>-7620436759428735</td>\n",
       "      <td>2234068105510249091</td>\n",
       "    </tr>\n",
       "    <tr>\n",
       "      <th>4.JPG</th>\n",
       "      <td>68384285432309092</td>\n",
       "      <td>2545155944374035325</td>\n",
       "      <td>68384285398754660</td>\n",
       "      <td>4521054370054146</td>\n",
       "      <td>0</td>\n",
       "      <td>9183170416319693445</td>\n",
       "      <td>-3596632344661693</td>\n",
       "      <td>68384285432309092</td>\n",
       "      <td>2403220005457130104</td>\n",
       "      <td>-3099382389374589</td>\n",
       "      <td>2238589159880303237</td>\n",
       "    </tr>\n",
       "    <tr>\n",
       "      <th>5.JPG</th>\n",
       "      <td>-9114786130887384353</td>\n",
       "      <td>-6638014471945658120</td>\n",
       "      <td>-9114786130920938785</td>\n",
       "      <td>-9178649361949639299</td>\n",
       "      <td>-9183170416319693445</td>\n",
       "      <td>0</td>\n",
       "      <td>-9186767048664355138</td>\n",
       "      <td>-9114786130887384353</td>\n",
       "      <td>-6779950410862563341</td>\n",
       "      <td>-9186269798709068034</td>\n",
       "      <td>-6944581256439390208</td>\n",
       "    </tr>\n",
       "    <tr>\n",
       "      <th>3-1.JPG</th>\n",
       "      <td>71980917776970785</td>\n",
       "      <td>2548752576718697018</td>\n",
       "      <td>71980917743416353</td>\n",
       "      <td>8117686714715839</td>\n",
       "      <td>3596632344661693</td>\n",
       "      <td>9186767048664355138</td>\n",
       "      <td>0</td>\n",
       "      <td>71980917776970785</td>\n",
       "      <td>2406816637801791797</td>\n",
       "      <td>497249955287104</td>\n",
       "      <td>2242185792224964930</td>\n",
       "    </tr>\n",
       "    <tr>\n",
       "      <th>2.JPG</th>\n",
       "      <td>0</td>\n",
       "      <td>2476771658941726233</td>\n",
       "      <td>-33554432</td>\n",
       "      <td>-63863231062254946</td>\n",
       "      <td>-68384285432309092</td>\n",
       "      <td>9114786130887384353</td>\n",
       "      <td>-71980917776970785</td>\n",
       "      <td>0</td>\n",
       "      <td>2334835720024821012</td>\n",
       "      <td>-71483667821683681</td>\n",
       "      <td>2170204874447994145</td>\n",
       "    </tr>\n",
       "    <tr>\n",
       "      <th>1-2.HEIC</th>\n",
       "      <td>-2334835720024821012</td>\n",
       "      <td>141935938916905221</td>\n",
       "      <td>-2334835720058375444</td>\n",
       "      <td>-2398698951087075958</td>\n",
       "      <td>-2403220005457130104</td>\n",
       "      <td>6779950410862563341</td>\n",
       "      <td>-2406816637801791797</td>\n",
       "      <td>-2334835720024821012</td>\n",
       "      <td>0</td>\n",
       "      <td>-2406319387846504693</td>\n",
       "      <td>-164630845576826867</td>\n",
       "    </tr>\n",
       "    <tr>\n",
       "      <th>3.JPG</th>\n",
       "      <td>71483667821683681</td>\n",
       "      <td>2548255326763409914</td>\n",
       "      <td>71483667788129249</td>\n",
       "      <td>7620436759428735</td>\n",
       "      <td>3099382389374589</td>\n",
       "      <td>9186269798709068034</td>\n",
       "      <td>-497249955287104</td>\n",
       "      <td>71483667821683681</td>\n",
       "      <td>2406319387846504693</td>\n",
       "      <td>0</td>\n",
       "      <td>2241688542269677826</td>\n",
       "    </tr>\n",
       "    <tr>\n",
       "      <th>5-1.JPG</th>\n",
       "      <td>-2170204874447994145</td>\n",
       "      <td>306566784493732088</td>\n",
       "      <td>-2170204874481548577</td>\n",
       "      <td>-2234068105510249091</td>\n",
       "      <td>-2238589159880303237</td>\n",
       "      <td>6944581256439390208</td>\n",
       "      <td>-2242185792224964930</td>\n",
       "      <td>-2170204874447994145</td>\n",
       "      <td>164630845576826867</td>\n",
       "      <td>-2241688542269677826</td>\n",
       "      <td>0</td>\n",
       "    </tr>\n",
       "  </tbody>\n",
       "</table>\n",
       "</div>"
      ],
      "text/plain": [
       "                      2-1.JPG               1.HEIC              2-2.JPG  \\\n",
       "2-1.JPG                     0  2476771658941726233            -33554432   \n",
       "1.HEIC   -2476771658941726233                    0 -2476771658975280665   \n",
       "2-2.JPG              33554432  2476771658975280665                    0   \n",
       "4-1.JPG     63863231062254946  2540634890003981179    63863231028700514   \n",
       "4.JPG       68384285432309092  2545155944374035325    68384285398754660   \n",
       "5.JPG    -9114786130887384353 -6638014471945658120 -9114786130920938785   \n",
       "3-1.JPG     71980917776970785  2548752576718697018    71980917743416353   \n",
       "2.JPG                       0  2476771658941726233            -33554432   \n",
       "1-2.HEIC -2334835720024821012   141935938916905221 -2334835720058375444   \n",
       "3.JPG       71483667821683681  2548255326763409914    71483667788129249   \n",
       "5-1.JPG  -2170204874447994145   306566784493732088 -2170204874481548577   \n",
       "\n",
       "                      4-1.JPG                4.JPG                5.JPG  \\\n",
       "2-1.JPG    -63863231062254946   -68384285432309092  9114786130887384353   \n",
       "1.HEIC   -2540634890003981179 -2545155944374035325  6638014471945658120   \n",
       "2-2.JPG    -63863231028700514   -68384285398754660  9114786130920938785   \n",
       "4-1.JPG                     0    -4521054370054146  9178649361949639299   \n",
       "4.JPG        4521054370054146                    0  9183170416319693445   \n",
       "5.JPG    -9178649361949639299 -9183170416319693445                    0   \n",
       "3-1.JPG      8117686714715839     3596632344661693  9186767048664355138   \n",
       "2.JPG      -63863231062254946   -68384285432309092  9114786130887384353   \n",
       "1-2.HEIC -2398698951087075958 -2403220005457130104  6779950410862563341   \n",
       "3.JPG        7620436759428735     3099382389374589  9186269798709068034   \n",
       "5-1.JPG  -2234068105510249091 -2238589159880303237  6944581256439390208   \n",
       "\n",
       "                      3-1.JPG                2.JPG             1-2.HEIC  \\\n",
       "2-1.JPG    -71980917776970785                    0  2334835720024821012   \n",
       "1.HEIC   -2548752576718697018 -2476771658941726233  -141935938916905221   \n",
       "2-2.JPG    -71980917743416353             33554432  2334835720058375444   \n",
       "4-1.JPG     -8117686714715839    63863231062254946  2398698951087075958   \n",
       "4.JPG       -3596632344661693    68384285432309092  2403220005457130104   \n",
       "5.JPG    -9186767048664355138 -9114786130887384353 -6779950410862563341   \n",
       "3-1.JPG                     0    71980917776970785  2406816637801791797   \n",
       "2.JPG      -71980917776970785                    0  2334835720024821012   \n",
       "1-2.HEIC -2406816637801791797 -2334835720024821012                    0   \n",
       "3.JPG        -497249955287104    71483667821683681  2406319387846504693   \n",
       "5-1.JPG  -2242185792224964930 -2170204874447994145   164630845576826867   \n",
       "\n",
       "                        3.JPG              5-1.JPG  \n",
       "2-1.JPG    -71483667821683681  2170204874447994145  \n",
       "1.HEIC   -2548255326763409914  -306566784493732088  \n",
       "2-2.JPG    -71483667788129249  2170204874481548577  \n",
       "4-1.JPG     -7620436759428735  2234068105510249091  \n",
       "4.JPG       -3099382389374589  2238589159880303237  \n",
       "5.JPG    -9186269798709068034 -6944581256439390208  \n",
       "3-1.JPG       497249955287104  2242185792224964930  \n",
       "2.JPG      -71483667821683681  2170204874447994145  \n",
       "1-2.HEIC -2406319387846504693  -164630845576826867  \n",
       "3.JPG                       0  2241688542269677826  \n",
       "5-1.JPG  -2241688542269677826                    0  "
      ]
     },
     "execution_count": 87,
     "metadata": {},
     "output_type": "execute_result"
    }
   ],
   "source": [
    "matrix_img_df"
   ]
  },
  {
   "cell_type": "code",
   "execution_count": 81,
   "id": "e2069a06",
   "metadata": {},
   "outputs": [],
   "source": [
    "def calculate_image_hashes(image_path):\n",
    "\n",
    "    img = Image.open(image_path)\n",
    "\n",
    "    average_hash = imagehash.average_hash(img)\n",
    "    dhash = imagehash.dhash(img)\n",
    "    phash = imagehash.phash(img)\n",
    "    colorhash = imagehash.colorhash(img)\n",
    "\n",
    "    return {\n",
    "        \"average_hash\": int(str(average_hash), 16),\n",
    "        \"dhash\": int(str(dhash), 16),\n",
    "        \"phash\": int(str(phash), 16),\n",
    "        \"colorhash\": int(str(colorhash), 16)\n",
    "    }"
   ]
  },
  {
   "cell_type": "code",
   "execution_count": 82,
   "id": "a377ffa4",
   "metadata": {},
   "outputs": [
    {
     "name": "stdout",
     "output_type": "stream",
     "text": [
      "CPU times: user 623 ms, sys: 86 ms, total: 709 ms\n",
      "Wall time: 732 ms\n"
     ]
    }
   ],
   "source": [
    "%%time\n",
    "hhh = calculate_image_hashes(image_paths[0])"
   ]
  },
  {
   "cell_type": "code",
   "execution_count": 83,
   "id": "1410c3b8",
   "metadata": {},
   "outputs": [
    {
     "data": {
      "text/plain": [
       "{'average_hash': 18374403486693989407,\n",
       " 'dhash': 15874190554173567158,\n",
       " 'phash': 15920650585210538804,\n",
       " 'colorhash': 532609499136}"
      ]
     },
     "execution_count": 83,
     "metadata": {},
     "output_type": "execute_result"
    }
   ],
   "source": [
    "hhh"
   ]
  },
  {
   "cell_type": "code",
   "execution_count": null,
   "id": "2d2a61f7",
   "metadata": {},
   "outputs": [],
   "source": []
  }
 ],
 "metadata": {
  "kernelspec": {
   "display_name": "Python 3 (ipykernel)",
   "language": "python",
   "name": "python3"
  },
  "language_info": {
   "codemirror_mode": {
    "name": "ipython",
    "version": 3
   },
   "file_extension": ".py",
   "mimetype": "text/x-python",
   "name": "python",
   "nbconvert_exporter": "python",
   "pygments_lexer": "ipython3",
   "version": "3.11.5"
  }
 },
 "nbformat": 4,
 "nbformat_minor": 5
}
